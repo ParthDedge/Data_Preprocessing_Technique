{
  "nbformat": 4,
  "nbformat_minor": 0,
  "metadata": {
    "colab": {
      "provenance": []
    },
    "kernelspec": {
      "name": "python3",
      "display_name": "Python 3"
    },
    "language_info": {
      "name": "python"
    }
  },
  "cells": [
    {
      "cell_type": "markdown",
      "source": [
        "##**Aim: Identify datasets related to Robotics and Automatics domain and carry out data preprocessing techniques**##"
      ],
      "metadata": {
        "id": "idFD8TAbBGJB"
      }
    },
    {
      "cell_type": "markdown",
      "source": [
        "##**Theory**\n",
        "Data preprocessing is a process of preparing the raw data and making it suitable for a machine learning model. It is the initial and most important step in developing a machine learning model.\n",
        "\n",
        "When developing a machine learning project, it is not always the case that we encounter clean and well-structured data. In addition, it is necessary to cleanse and prepare data prior to performing any operation on it. For this reason, we employ data preprocessing tasks.\n",
        "\n",
        "---\n",
        "> **Need of Data Preprocessing**\n",
        "---\n",
        "A real-world data generally contains noises, missing values, and maybe in an unusable format which cannot be directly used for machine learning models.\n",
        "\n",
        "Data preprocessing is required tasks for cleaning the data and making it suitable for a machine learning model which also increases the accuracy and efficiency of a machine learning model.\n",
        "\n",
        "\n",
        "For achieving better results from the applied model in Machine Learning projects the format of the data has to be in a proper manner.\n",
        "\n",
        "Some specified Machine Learning model needs information in a specified format, for example, Random Forest algorithm does not support null values, therefore to execute random forest algorithm null values have to be managed from the original raw data set.\n",
        "\n",
        "\n",
        "Another aspect is that the data set should be formatted in such a way that more than one Machine Learning and Deep Learning algorithm are executed in one data set, and best out of them is chosen.\n",
        "\n",
        "---\n",
        "\n",
        "> **Steps in data-Preprocessing**\n",
        "\n",
        "---\n",
        "1. Handling of missing values\n",
        "2. Categorical-Encoding\n",
        "3. Data Scaling etc.\n",
        "\n",
        "In this experiment we will study the how to handle the missing values, ho to perform categorical encoading and how to scale the data."
      ],
      "metadata": {
        "id": "3pXygfA5BJDt"
      }
    },
    {
      "cell_type": "markdown",
      "source": [
        "#**1. Handling of missing values**"
      ],
      "metadata": {
        "id": "7Uqgz_lzBSSF"
      }
    },
    {
      "cell_type": "markdown",
      "source": [
        "**Import required libraries**"
      ],
      "metadata": {
        "id": "Mpqks6hfcU9J"
      }
    },
    {
      "cell_type": "code",
      "source": [
        "import pandas as pd\n",
        "import numpy as np"
      ],
      "metadata": {
        "id": "q03tFyAABlcq"
      },
      "execution_count": null,
      "outputs": []
    },
    {
      "cell_type": "markdown",
      "source": [
        "**Import data \"4_movie_scores.csv\" (.csv form)** (dataset is uploaded in classroom)"
      ],
      "metadata": {
        "id": "4KZmo8V756p_"
      }
    },
    {
      "cell_type": "code",
      "source": [
        "df=pd.read_csv('/content/4_movie_scores.csv')\n",
        "df"
      ],
      "metadata": {
        "id": "7LKStNEWBx6t"
      },
      "execution_count": null,
      "outputs": []
    },
    {
      "cell_type": "markdown",
      "source": [
        "**Check five head values of imported Dataframe**"
      ],
      "metadata": {
        "id": "f2Iufvc8cpD4"
      }
    },
    {
      "cell_type": "code",
      "source": [
        "df.head()"
      ],
      "metadata": {
        "id": "DraBM_6Fspb9"
      },
      "execution_count": null,
      "outputs": []
    },
    {
      "cell_type": "markdown",
      "source": [
        "**Checking and Selecting Null Values**"
      ],
      "metadata": {
        "id": "GBbVcbB4g6KR"
      }
    },
    {
      "cell_type": "code",
      "source": [
        "df.isnull()                                       # null position is indicated by boolean operator \"True\""
      ],
      "metadata": {
        "id": "BlENVfuAhG46"
      },
      "execution_count": null,
      "outputs": []
    },
    {
      "cell_type": "code",
      "source": [
        "df.notnull()                                         # Non-null position is indicated by boolean operator \"True\""
      ],
      "metadata": {
        "id": "EV_CJc9XhLNG"
      },
      "execution_count": null,
      "outputs": []
    },
    {
      "cell_type": "code",
      "source": [
        "df.columns"
      ],
      "metadata": {
        "id": "B4BPVrEw85XS"
      },
      "execution_count": null,
      "outputs": []
    },
    {
      "cell_type": "markdown",
      "source": [
        "**non-null values from perticular raw or column**"
      ],
      "metadata": {
        "id": "fge7l5PHtdmD"
      }
    },
    {
      "cell_type": "code",
      "source": [
        "df['first_name']"
      ],
      "metadata": {
        "id": "Fnjtr7EQhUNu"
      },
      "execution_count": null,
      "outputs": []
    },
    {
      "cell_type": "code",
      "source": [
        "df[df['first_name'].isnull()]"
      ],
      "metadata": {
        "id": "2TJKW4BxTiiS"
      },
      "execution_count": null,
      "outputs": []
    },
    {
      "cell_type": "code",
      "source": [
        "[df['first_name'].notnull()]"
      ],
      "metadata": {
        "id": "HPxkuntDUFPj"
      },
      "execution_count": null,
      "outputs": []
    },
    {
      "cell_type": "code",
      "source": [
        "df[df['first_name'].notnull()]"
      ],
      "metadata": {
        "id": "ebzqGhiUhk-D"
      },
      "execution_count": null,
      "outputs": []
    },
    {
      "cell_type": "markdown",
      "source": [
        "**non-null and null values from multiple raw or column**"
      ],
      "metadata": {
        "id": "sn4EnYec7EL3"
      }
    },
    {
      "cell_type": "code",
      "source": [
        "df['pre_movie_score'].isnull()"
      ],
      "metadata": {
        "id": "RIfUGvrn-8-L"
      },
      "execution_count": null,
      "outputs": []
    },
    {
      "cell_type": "code",
      "source": [
        "df['Gender'].notnull()"
      ],
      "metadata": {
        "id": "3-itDHqx_Bsi"
      },
      "execution_count": null,
      "outputs": []
    },
    {
      "cell_type": "code",
      "source": [
        "df[(df['pre_movie_score'].isnull()) & df['Gender'].notnull()]"
      ],
      "metadata": {
        "id": "P05gnmZD7MdG"
      },
      "execution_count": null,
      "outputs": []
    },
    {
      "cell_type": "markdown",
      "source": [
        "**How to drop or replace null values?**"
      ],
      "metadata": {
        "id": "5sGIciz3c73o"
      }
    },
    {
      "cell_type": "markdown",
      "source": [
        "**Actual Dataset**"
      ],
      "metadata": {
        "id": "0u_maDG87eQ-"
      }
    },
    {
      "cell_type": "code",
      "source": [
        "df"
      ],
      "metadata": {
        "id": "3MRym6Fxhnx4"
      },
      "execution_count": null,
      "outputs": []
    },
    {
      "cell_type": "markdown",
      "source": [
        "**count of missing values**"
      ],
      "metadata": {
        "id": "svdKtslljxey"
      }
    },
    {
      "cell_type": "markdown",
      "source": [
        "**Missing value count along Columns**"
      ],
      "metadata": {
        "id": "1C3lj4oPkDif"
      }
    },
    {
      "cell_type": "code",
      "source": [
        "df.isna().sum()"
      ],
      "metadata": {
        "id": "aDbck3MujoV8"
      },
      "execution_count": null,
      "outputs": []
    },
    {
      "cell_type": "markdown",
      "source": [
        "**Missing value count of complete dataframe**"
      ],
      "metadata": {
        "id": "edZ6miudkYFs"
      }
    },
    {
      "cell_type": "code",
      "source": [
        "df.isna().sum().sum()"
      ],
      "metadata": {
        "id": "k0YmVqWej-6U"
      },
      "execution_count": null,
      "outputs": []
    },
    {
      "cell_type": "markdown",
      "source": [
        "**Drop rows contains null values**"
      ],
      "metadata": {
        "id": "SwHaAhTE00fq"
      }
    },
    {
      "cell_type": "code",
      "source": [
        "df"
      ],
      "metadata": {
        "id": "Gw2mQY1iBDSp"
      },
      "execution_count": null,
      "outputs": []
    },
    {
      "cell_type": "code",
      "source": [
        "df.dropna()"
      ],
      "metadata": {
        "colab": {
          "base_uri": "https://localhost:8080/",
          "height": 143
        },
        "id": "5dGsuUVQA0hC",
        "outputId": "ddd109ee-b8ca-44dd-cf13-44f7061647fc"
      },
      "execution_count": null,
      "outputs": [
        {
          "output_type": "execute_result",
          "data": {
            "text/plain": [
              "  first_name last_name   age Gender  pre_movie_score  post_movie_score\n",
              "0       Root      Joss  36.0      m              8.0               9.0\n",
              "3      Sofie    Miller  39.0      f              7.0               8.0\n",
              "4       Emma       Roy  84.0      f              6.0               8.0"
            ],
            "text/html": [
              "\n",
              "  <div id=\"df-58c6eeeb-c108-4a44-90a1-ed1ab0a0f15d\">\n",
              "    <div class=\"colab-df-container\">\n",
              "      <div>\n",
              "<style scoped>\n",
              "    .dataframe tbody tr th:only-of-type {\n",
              "        vertical-align: middle;\n",
              "    }\n",
              "\n",
              "    .dataframe tbody tr th {\n",
              "        vertical-align: top;\n",
              "    }\n",
              "\n",
              "    .dataframe thead th {\n",
              "        text-align: right;\n",
              "    }\n",
              "</style>\n",
              "<table border=\"1\" class=\"dataframe\">\n",
              "  <thead>\n",
              "    <tr style=\"text-align: right;\">\n",
              "      <th></th>\n",
              "      <th>first_name</th>\n",
              "      <th>last_name</th>\n",
              "      <th>age</th>\n",
              "      <th>Gender</th>\n",
              "      <th>pre_movie_score</th>\n",
              "      <th>post_movie_score</th>\n",
              "    </tr>\n",
              "  </thead>\n",
              "  <tbody>\n",
              "    <tr>\n",
              "      <th>0</th>\n",
              "      <td>Root</td>\n",
              "      <td>Joss</td>\n",
              "      <td>36.0</td>\n",
              "      <td>m</td>\n",
              "      <td>8.0</td>\n",
              "      <td>9.0</td>\n",
              "    </tr>\n",
              "    <tr>\n",
              "      <th>3</th>\n",
              "      <td>Sofie</td>\n",
              "      <td>Miller</td>\n",
              "      <td>39.0</td>\n",
              "      <td>f</td>\n",
              "      <td>7.0</td>\n",
              "      <td>8.0</td>\n",
              "    </tr>\n",
              "    <tr>\n",
              "      <th>4</th>\n",
              "      <td>Emma</td>\n",
              "      <td>Roy</td>\n",
              "      <td>84.0</td>\n",
              "      <td>f</td>\n",
              "      <td>6.0</td>\n",
              "      <td>8.0</td>\n",
              "    </tr>\n",
              "  </tbody>\n",
              "</table>\n",
              "</div>\n",
              "      <button class=\"colab-df-convert\" onclick=\"convertToInteractive('df-58c6eeeb-c108-4a44-90a1-ed1ab0a0f15d')\"\n",
              "              title=\"Convert this dataframe to an interactive table.\"\n",
              "              style=\"display:none;\">\n",
              "        \n",
              "  <svg xmlns=\"http://www.w3.org/2000/svg\" height=\"24px\"viewBox=\"0 0 24 24\"\n",
              "       width=\"24px\">\n",
              "    <path d=\"M0 0h24v24H0V0z\" fill=\"none\"/>\n",
              "    <path d=\"M18.56 5.44l.94 2.06.94-2.06 2.06-.94-2.06-.94-.94-2.06-.94 2.06-2.06.94zm-11 1L8.5 8.5l.94-2.06 2.06-.94-2.06-.94L8.5 2.5l-.94 2.06-2.06.94zm10 10l.94 2.06.94-2.06 2.06-.94-2.06-.94-.94-2.06-.94 2.06-2.06.94z\"/><path d=\"M17.41 7.96l-1.37-1.37c-.4-.4-.92-.59-1.43-.59-.52 0-1.04.2-1.43.59L10.3 9.45l-7.72 7.72c-.78.78-.78 2.05 0 2.83L4 21.41c.39.39.9.59 1.41.59.51 0 1.02-.2 1.41-.59l7.78-7.78 2.81-2.81c.8-.78.8-2.07 0-2.86zM5.41 20L4 18.59l7.72-7.72 1.47 1.35L5.41 20z\"/>\n",
              "  </svg>\n",
              "      </button>\n",
              "      \n",
              "  <style>\n",
              "    .colab-df-container {\n",
              "      display:flex;\n",
              "      flex-wrap:wrap;\n",
              "      gap: 12px;\n",
              "    }\n",
              "\n",
              "    .colab-df-convert {\n",
              "      background-color: #E8F0FE;\n",
              "      border: none;\n",
              "      border-radius: 50%;\n",
              "      cursor: pointer;\n",
              "      display: none;\n",
              "      fill: #1967D2;\n",
              "      height: 32px;\n",
              "      padding: 0 0 0 0;\n",
              "      width: 32px;\n",
              "    }\n",
              "\n",
              "    .colab-df-convert:hover {\n",
              "      background-color: #E2EBFA;\n",
              "      box-shadow: 0px 1px 2px rgba(60, 64, 67, 0.3), 0px 1px 3px 1px rgba(60, 64, 67, 0.15);\n",
              "      fill: #174EA6;\n",
              "    }\n",
              "\n",
              "    [theme=dark] .colab-df-convert {\n",
              "      background-color: #3B4455;\n",
              "      fill: #D2E3FC;\n",
              "    }\n",
              "\n",
              "    [theme=dark] .colab-df-convert:hover {\n",
              "      background-color: #434B5C;\n",
              "      box-shadow: 0px 1px 3px 1px rgba(0, 0, 0, 0.15);\n",
              "      filter: drop-shadow(0px 1px 2px rgba(0, 0, 0, 0.3));\n",
              "      fill: #FFFFFF;\n",
              "    }\n",
              "  </style>\n",
              "\n",
              "      <script>\n",
              "        const buttonEl =\n",
              "          document.querySelector('#df-58c6eeeb-c108-4a44-90a1-ed1ab0a0f15d button.colab-df-convert');\n",
              "        buttonEl.style.display =\n",
              "          google.colab.kernel.accessAllowed ? 'block' : 'none';\n",
              "\n",
              "        async function convertToInteractive(key) {\n",
              "          const element = document.querySelector('#df-58c6eeeb-c108-4a44-90a1-ed1ab0a0f15d');\n",
              "          const dataTable =\n",
              "            await google.colab.kernel.invokeFunction('convertToInteractive',\n",
              "                                                     [key], {});\n",
              "          if (!dataTable) return;\n",
              "\n",
              "          const docLinkHtml = 'Like what you see? Visit the ' +\n",
              "            '<a target=\"_blank\" href=https://colab.research.google.com/notebooks/data_table.ipynb>data table notebook</a>'\n",
              "            + ' to learn more about interactive tables.';\n",
              "          element.innerHTML = '';\n",
              "          dataTable['output_type'] = 'display_data';\n",
              "          await google.colab.output.renderOutput(dataTable, element);\n",
              "          const docLink = document.createElement('div');\n",
              "          docLink.innerHTML = docLinkHtml;\n",
              "          element.appendChild(docLink);\n",
              "        }\n",
              "      </script>\n",
              "    </div>\n",
              "  </div>\n",
              "  "
            ]
          },
          "metadata": {},
          "execution_count": 21
        }
      ]
    },
    {
      "cell_type": "code",
      "source": [
        "df.dropna(axis=1)"
      ],
      "metadata": {
        "colab": {
          "base_uri": "https://localhost:8080/",
          "height": 189
        },
        "id": "x82NSrxtil53",
        "outputId": "ca63bc7e-41ae-48ac-cb95-a2065e66c532"
      },
      "execution_count": null,
      "outputs": [
        {
          "output_type": "execute_result",
          "data": {
            "text/plain": [
              "Empty DataFrame\n",
              "Columns: []\n",
              "Index: [0, 1, 2, 3, 4]"
            ],
            "text/html": [
              "\n",
              "  <div id=\"df-4fafc713-96ff-4b86-a808-c805bc6548d2\">\n",
              "    <div class=\"colab-df-container\">\n",
              "      <div>\n",
              "<style scoped>\n",
              "    .dataframe tbody tr th:only-of-type {\n",
              "        vertical-align: middle;\n",
              "    }\n",
              "\n",
              "    .dataframe tbody tr th {\n",
              "        vertical-align: top;\n",
              "    }\n",
              "\n",
              "    .dataframe thead th {\n",
              "        text-align: right;\n",
              "    }\n",
              "</style>\n",
              "<table border=\"1\" class=\"dataframe\">\n",
              "  <thead>\n",
              "    <tr style=\"text-align: right;\">\n",
              "      <th></th>\n",
              "    </tr>\n",
              "  </thead>\n",
              "  <tbody>\n",
              "    <tr>\n",
              "      <th>0</th>\n",
              "    </tr>\n",
              "    <tr>\n",
              "      <th>1</th>\n",
              "    </tr>\n",
              "    <tr>\n",
              "      <th>2</th>\n",
              "    </tr>\n",
              "    <tr>\n",
              "      <th>3</th>\n",
              "    </tr>\n",
              "    <tr>\n",
              "      <th>4</th>\n",
              "    </tr>\n",
              "  </tbody>\n",
              "</table>\n",
              "</div>\n",
              "      <button class=\"colab-df-convert\" onclick=\"convertToInteractive('df-4fafc713-96ff-4b86-a808-c805bc6548d2')\"\n",
              "              title=\"Convert this dataframe to an interactive table.\"\n",
              "              style=\"display:none;\">\n",
              "        \n",
              "  <svg xmlns=\"http://www.w3.org/2000/svg\" height=\"24px\"viewBox=\"0 0 24 24\"\n",
              "       width=\"24px\">\n",
              "    <path d=\"M0 0h24v24H0V0z\" fill=\"none\"/>\n",
              "    <path d=\"M18.56 5.44l.94 2.06.94-2.06 2.06-.94-2.06-.94-.94-2.06-.94 2.06-2.06.94zm-11 1L8.5 8.5l.94-2.06 2.06-.94-2.06-.94L8.5 2.5l-.94 2.06-2.06.94zm10 10l.94 2.06.94-2.06 2.06-.94-2.06-.94-.94-2.06-.94 2.06-2.06.94z\"/><path d=\"M17.41 7.96l-1.37-1.37c-.4-.4-.92-.59-1.43-.59-.52 0-1.04.2-1.43.59L10.3 9.45l-7.72 7.72c-.78.78-.78 2.05 0 2.83L4 21.41c.39.39.9.59 1.41.59.51 0 1.02-.2 1.41-.59l7.78-7.78 2.81-2.81c.8-.78.8-2.07 0-2.86zM5.41 20L4 18.59l7.72-7.72 1.47 1.35L5.41 20z\"/>\n",
              "  </svg>\n",
              "      </button>\n",
              "      \n",
              "  <style>\n",
              "    .colab-df-container {\n",
              "      display:flex;\n",
              "      flex-wrap:wrap;\n",
              "      gap: 12px;\n",
              "    }\n",
              "\n",
              "    .colab-df-convert {\n",
              "      background-color: #E8F0FE;\n",
              "      border: none;\n",
              "      border-radius: 50%;\n",
              "      cursor: pointer;\n",
              "      display: none;\n",
              "      fill: #1967D2;\n",
              "      height: 32px;\n",
              "      padding: 0 0 0 0;\n",
              "      width: 32px;\n",
              "    }\n",
              "\n",
              "    .colab-df-convert:hover {\n",
              "      background-color: #E2EBFA;\n",
              "      box-shadow: 0px 1px 2px rgba(60, 64, 67, 0.3), 0px 1px 3px 1px rgba(60, 64, 67, 0.15);\n",
              "      fill: #174EA6;\n",
              "    }\n",
              "\n",
              "    [theme=dark] .colab-df-convert {\n",
              "      background-color: #3B4455;\n",
              "      fill: #D2E3FC;\n",
              "    }\n",
              "\n",
              "    [theme=dark] .colab-df-convert:hover {\n",
              "      background-color: #434B5C;\n",
              "      box-shadow: 0px 1px 3px 1px rgba(0, 0, 0, 0.15);\n",
              "      filter: drop-shadow(0px 1px 2px rgba(0, 0, 0, 0.3));\n",
              "      fill: #FFFFFF;\n",
              "    }\n",
              "  </style>\n",
              "\n",
              "      <script>\n",
              "        const buttonEl =\n",
              "          document.querySelector('#df-4fafc713-96ff-4b86-a808-c805bc6548d2 button.colab-df-convert');\n",
              "        buttonEl.style.display =\n",
              "          google.colab.kernel.accessAllowed ? 'block' : 'none';\n",
              "\n",
              "        async function convertToInteractive(key) {\n",
              "          const element = document.querySelector('#df-4fafc713-96ff-4b86-a808-c805bc6548d2');\n",
              "          const dataTable =\n",
              "            await google.colab.kernel.invokeFunction('convertToInteractive',\n",
              "                                                     [key], {});\n",
              "          if (!dataTable) return;\n",
              "\n",
              "          const docLinkHtml = 'Like what you see? Visit the ' +\n",
              "            '<a target=\"_blank\" href=https://colab.research.google.com/notebooks/data_table.ipynb>data table notebook</a>'\n",
              "            + ' to learn more about interactive tables.';\n",
              "          element.innerHTML = '';\n",
              "          dataTable['output_type'] = 'display_data';\n",
              "          await google.colab.output.renderOutput(dataTable, element);\n",
              "          const docLink = document.createElement('div');\n",
              "          docLink.innerHTML = docLinkHtml;\n",
              "          element.appendChild(docLink);\n",
              "        }\n",
              "      </script>\n",
              "    </div>\n",
              "  </div>\n",
              "  "
            ]
          },
          "metadata": {},
          "execution_count": 22
        }
      ]
    },
    {
      "cell_type": "markdown",
      "source": [
        "**keep rows contains at least one non-null value**"
      ],
      "metadata": {
        "id": "fCFnWCKV1MqN"
      }
    },
    {
      "cell_type": "code",
      "source": [
        "df"
      ],
      "metadata": {
        "id": "vsteL7OuBo0D"
      },
      "execution_count": null,
      "outputs": []
    },
    {
      "cell_type": "code",
      "source": [
        "df.dropna(thresh=1)"
      ],
      "metadata": {
        "id": "WwJw6Weginm6"
      },
      "execution_count": null,
      "outputs": []
    },
    {
      "cell_type": "code",
      "source": [
        "df.dropna(thresh=2)"
      ],
      "metadata": {
        "id": "uCirJa9MBzuJ"
      },
      "execution_count": null,
      "outputs": []
    },
    {
      "cell_type": "code",
      "source": [
        "df.dropna(thresh=5)"
      ],
      "metadata": {
        "id": "IBrCLnfqB7sx"
      },
      "execution_count": null,
      "outputs": []
    },
    {
      "cell_type": "markdown",
      "source": [
        "**Drop columns contains null values**"
      ],
      "metadata": {
        "id": "VN-D1DnG0_e-"
      }
    },
    {
      "cell_type": "code",
      "source": [
        "df.dropna(axis=1)"
      ],
      "metadata": {
        "id": "I51kR1ryi0PZ"
      },
      "execution_count": null,
      "outputs": []
    },
    {
      "cell_type": "markdown",
      "source": [
        "**keep columns contains at least four non-null values**"
      ],
      "metadata": {
        "id": "apTlNhtC1e5j"
      }
    },
    {
      "cell_type": "code",
      "source": [
        "df.dropna(thresh=4,axis=1)"
      ],
      "metadata": {
        "id": "LNCJHNXol0_E"
      },
      "execution_count": null,
      "outputs": []
    },
    {
      "cell_type": "markdown",
      "source": [
        "**Fill null value Data**"
      ],
      "metadata": {
        "id": "1uIcQKBiowD8"
      }
    },
    {
      "cell_type": "code",
      "source": [
        "df.fillna(\"NEW\")"
      ],
      "metadata": {
        "id": "4IqZOtEVow25"
      },
      "execution_count": null,
      "outputs": []
    },
    {
      "cell_type": "code",
      "source": [
        "df['age'].fillna(5)"
      ],
      "metadata": {
        "id": "1QHsoMFso0c6"
      },
      "execution_count": null,
      "outputs": []
    },
    {
      "cell_type": "code",
      "source": [
        "df['first_name'].fillna(\"Empty\")"
      ],
      "metadata": {
        "id": "i7ZSQ9LyZjSY"
      },
      "execution_count": null,
      "outputs": []
    },
    {
      "cell_type": "code",
      "source": [
        "df"
      ],
      "metadata": {
        "id": "SFEhoJGWZsQo"
      },
      "execution_count": null,
      "outputs": []
    },
    {
      "cell_type": "code",
      "source": [
        "df['first_name'] = df['first_name'].fillna(\"Empty\")"
      ],
      "metadata": {
        "id": "yLuDLLKJpBJy"
      },
      "execution_count": null,
      "outputs": []
    },
    {
      "cell_type": "code",
      "source": [
        "df"
      ],
      "metadata": {
        "id": "Rb_T7auUpFIB"
      },
      "execution_count": null,
      "outputs": []
    },
    {
      "cell_type": "markdown",
      "source": [
        "**Fill 'pre_movie_score' with mean value of 'pre_movie_score'**"
      ],
      "metadata": {
        "id": "4Piu5CBL2jP_"
      }
    },
    {
      "cell_type": "markdown",
      "source": [
        "**Find mean value of 'pre_movie_score' column**"
      ],
      "metadata": {
        "id": "F9IjEW-K24oh"
      }
    },
    {
      "cell_type": "code",
      "source": [
        "df['pre_movie_score'].mean()"
      ],
      "metadata": {
        "id": "GoITSzHjpGVZ"
      },
      "execution_count": null,
      "outputs": []
    },
    {
      "cell_type": "code",
      "source": [
        "df.fillna(df['pre_movie_score'].mean())"
      ],
      "metadata": {
        "id": "xinPUgqqpS1I"
      },
      "execution_count": null,
      "outputs": []
    },
    {
      "cell_type": "code",
      "source": [
        "df['pre_movie_score'].mode()"
      ],
      "metadata": {
        "colab": {
          "base_uri": "https://localhost:8080/"
        },
        "id": "pX1640vsHB3h",
        "outputId": "9324c2fc-f460-4d02-bb1d-fa0edc7970ab"
      },
      "execution_count": null,
      "outputs": [
        {
          "output_type": "execute_result",
          "data": {
            "text/plain": [
              "0    6.0\n",
              "1    7.0\n",
              "2    8.0\n",
              "dtype: float64"
            ]
          },
          "metadata": {},
          "execution_count": 37
        }
      ]
    },
    {
      "cell_type": "code",
      "source": [
        "df['pre_movie_score'].median()"
      ],
      "metadata": {
        "id": "IQ4uQD4cHLd0"
      },
      "execution_count": null,
      "outputs": []
    },
    {
      "cell_type": "markdown",
      "source": [
        "##**Import dstaset (Students_expenses.csv)**"
      ],
      "metadata": {
        "id": "5YwIaIjluN9l"
      }
    },
    {
      "cell_type": "code",
      "source": [],
      "metadata": {
        "id": "Eo-AsH7Tub29"
      },
      "execution_count": null,
      "outputs": []
    },
    {
      "cell_type": "markdown",
      "source": [
        "##**Replace missing values with mean and median**"
      ],
      "metadata": {
        "id": "8npFr-RvBVRf"
      }
    },
    {
      "cell_type": "code",
      "source": [],
      "metadata": {
        "id": "lw6uUs89WFBi"
      },
      "execution_count": null,
      "outputs": []
    },
    {
      "cell_type": "markdown",
      "source": [
        "Replacing with mean"
      ],
      "metadata": {
        "id": "_Y1VynSwF1CL"
      }
    },
    {
      "cell_type": "code",
      "source": [
        "dz.median()"
      ],
      "metadata": {
        "id": "IcaI4BkFF8tE"
      },
      "execution_count": null,
      "outputs": []
    },
    {
      "cell_type": "code",
      "source": [
        "dz.fillna(dz.mean())"
      ],
      "metadata": {
        "id": "Zvx9bCYdSZBr"
      },
      "execution_count": null,
      "outputs": []
    },
    {
      "cell_type": "markdown",
      "source": [
        "**Replcing with median values**"
      ],
      "metadata": {
        "id": "S95gGZCyGoyk"
      }
    },
    {
      "cell_type": "code",
      "source": [],
      "metadata": {
        "id": "WeP11AoHBnZ0"
      },
      "execution_count": null,
      "outputs": []
    },
    {
      "cell_type": "code",
      "source": [
        "dz.fillna(dz.median())"
      ],
      "metadata": {
        "id": "jdYTJEa-SpSz"
      },
      "execution_count": null,
      "outputs": []
    },
    {
      "cell_type": "markdown",
      "source": [
        "##**KNN imputer for filling missing values**"
      ],
      "metadata": {
        "id": "DXJ-dCd8KiUf"
      }
    },
    {
      "cell_type": "markdown",
      "source": [
        "**Import \"Before_imputation.csv\" dataset**"
      ],
      "metadata": {
        "id": "vIF-WoZsKve_"
      }
    },
    {
      "cell_type": "code",
      "source": [
        "Before_imputation=pd.read_csv('/content/Before_imputation.csv')\n",
        "Before_imputation"
      ],
      "metadata": {
        "id": "IxGAyw4WLUT7"
      },
      "execution_count": null,
      "outputs": []
    },
    {
      "cell_type": "markdown",
      "source": [
        "##**Replace the missing values with KNNImputer**"
      ],
      "metadata": {
        "id": "KAH93NmXLQVm"
      }
    },
    {
      "cell_type": "code",
      "source": [
        "from sklearn.impute import KNNImputer\n",
        "imputer = KNNImputer(n_neighbors=2)\n",
        "After_imputation = imputer.fit_transform(Before_imputation)\n",
        "After_imputation                                              #After transforming the data becomes a numpy array."
      ],
      "metadata": {
        "id": "UrGMILX-Kpra"
      },
      "execution_count": null,
      "outputs": []
    },
    {
      "cell_type": "markdown",
      "source": [
        "##**Convert the array into dataframe**"
      ],
      "metadata": {
        "id": "a88CNYfaLqBc"
      }
    },
    {
      "cell_type": "code",
      "source": [
        "Before_imputation.columns"
      ],
      "metadata": {
        "id": "PDCwaT5UK1Ct"
      },
      "execution_count": null,
      "outputs": []
    },
    {
      "cell_type": "code",
      "source": [
        "After_imputation=pd.DataFrame(After_imputation,columns=['Maths', 'Chemistry', 'Physics', 'Biology'])\n",
        "After_imputation"
      ],
      "metadata": {
        "id": "sutEb9Y0LsvO"
      },
      "execution_count": null,
      "outputs": []
    },
    {
      "cell_type": "markdown",
      "source": [
        "---\n",
        "#**2. CATEGORICAL ENCOADING**\n",
        "\n"
      ],
      "metadata": {
        "id": "IzzEuWM1Mc57"
      }
    },
    {
      "cell_type": "markdown",
      "source": [
        "**Import \"Encoding_data.csv\"**  "
      ],
      "metadata": {
        "id": "4X14qTB6NLPd"
      }
    },
    {
      "cell_type": "code",
      "source": [],
      "metadata": {
        "id": "WpEEFBeeOBxw"
      },
      "execution_count": null,
      "outputs": []
    },
    {
      "cell_type": "markdown",
      "source": [
        "**Import label encoder**"
      ],
      "metadata": {
        "id": "PkysDOtVNktg"
      }
    },
    {
      "cell_type": "code",
      "source": [
        "from sklearn.preprocessing import LabelEncoder"
      ],
      "metadata": {
        "id": "yLN48sV3MbBx"
      },
      "execution_count": null,
      "outputs": []
    },
    {
      "cell_type": "markdown",
      "source": [
        "**Check unique values in column country**"
      ],
      "metadata": {
        "id": "f7X30UbyNwe7"
      }
    },
    {
      "cell_type": "code",
      "source": [
        "df.Country.unique()"
      ],
      "metadata": {
        "id": "m38oPsWIMbHh"
      },
      "execution_count": null,
      "outputs": []
    },
    {
      "cell_type": "code",
      "source": [
        "z= df.Country.unique()"
      ],
      "metadata": {
        "id": "vyU6jLJyMbJg"
      },
      "execution_count": null,
      "outputs": []
    },
    {
      "cell_type": "code",
      "source": [
        "len(z)"
      ],
      "metadata": {
        "id": "dJSBjMUmMbWz"
      },
      "execution_count": null,
      "outputs": []
    },
    {
      "cell_type": "markdown",
      "source": [
        "**Encode labels in column 'Country'**"
      ],
      "metadata": {
        "id": "g9fPTgGVN9ZE"
      }
    },
    {
      "cell_type": "code",
      "source": [
        "from sklearn.preprocessing import LabelEncoder\n",
        "label_encoder = LabelEncoder()\n",
        "df['Country_labels']= label_encoder.fit_transform(df['Country'])\n",
        "df"
      ],
      "metadata": {
        "id": "l2GF3z_EMbZf"
      },
      "execution_count": null,
      "outputs": []
    },
    {
      "cell_type": "code",
      "source": [
        "df_new=df.drop(columns=['Country'])\n",
        "df_new"
      ],
      "metadata": {
        "id": "2IhW0pRmMbcW"
      },
      "execution_count": null,
      "outputs": []
    },
    {
      "cell_type": "markdown",
      "source": [
        "**Importing one hot encoder**"
      ],
      "metadata": {
        "id": "KH7fNtyhOZxW"
      }
    },
    {
      "cell_type": "code",
      "source": [
        "from sklearn.preprocessing import OneHotEncoder"
      ],
      "metadata": {
        "id": "X4y_5YRKMbe1"
      },
      "execution_count": null,
      "outputs": []
    },
    {
      "cell_type": "markdown",
      "source": [
        "## **reshape the 1-D country array to 2-D as fit_transform expects 2-D and finally fit the object**"
      ],
      "metadata": {
        "id": "lMtn0PBLOg1N"
      }
    },
    {
      "cell_type": "code",
      "source": [
        "df.Country.ndim"
      ],
      "metadata": {
        "id": "OO5mvuu5Mbha"
      },
      "execution_count": null,
      "outputs": []
    },
    {
      "cell_type": "code",
      "source": [
        "df.Country.values"
      ],
      "metadata": {
        "id": "jU-RMTq0Mbjb"
      },
      "execution_count": null,
      "outputs": []
    },
    {
      "cell_type": "code",
      "source": [
        "df.Country.values.reshape(-1,1)"
      ],
      "metadata": {
        "id": "7-NMdONtMble"
      },
      "execution_count": null,
      "outputs": []
    },
    {
      "cell_type": "code",
      "source": [
        "df.Country.values.reshape(-1,1).ndim"
      ],
      "metadata": {
        "id": "uduG4jSaMbnb"
      },
      "execution_count": null,
      "outputs": []
    },
    {
      "cell_type": "code",
      "source": [
        "onehotencoder = OneHotEncoder()\n",
        "X = onehotencoder.fit_transform(df.Country.values.reshape(-1,1)).toarray()\n",
        "X"
      ],
      "metadata": {
        "id": "lMQx1vcqMbpq"
      },
      "execution_count": null,
      "outputs": []
    },
    {
      "cell_type": "markdown",
      "source": [
        "**To add this back into the original dataframe**"
      ],
      "metadata": {
        "id": "hs4yPTayO0sQ"
      }
    },
    {
      "cell_type": "code",
      "source": [
        "X.shape"
      ],
      "metadata": {
        "id": "0s3PpWOsMbrv"
      },
      "execution_count": null,
      "outputs": []
    },
    {
      "cell_type": "code",
      "source": [
        "\n",
        "df_OneHot = pd.DataFrame(X, columns = [\"Country_\"+str(int(i)) for i in range(X.shape[1])])\n",
        "df_OneHot"
      ],
      "metadata": {
        "id": "zBBKfIsBMbwy"
      },
      "execution_count": null,
      "outputs": []
    },
    {
      "cell_type": "markdown",
      "source": [
        "**concat dfOneHot with original dataframe**"
      ],
      "metadata": {
        "id": "3vV6sop8O94k"
      }
    },
    {
      "cell_type": "code",
      "source": [
        "df2_new = pd.concat([df, df_OneHot], axis=1)\n",
        "df2_new"
      ],
      "metadata": {
        "id": "mSetkV7MMbzK"
      },
      "execution_count": null,
      "outputs": []
    },
    {
      "cell_type": "code",
      "source": [
        "df2_new.drop(columns=['Country'],inplace=True)\n",
        "df2_new"
      ],
      "metadata": {
        "id": "tGdGR59fMb1h"
      },
      "execution_count": null,
      "outputs": []
    },
    {
      "cell_type": "markdown",
      "source": [
        "#**3.Data Scaling**"
      ],
      "metadata": {
        "id": "iGamRlNWPhY-"
      }
    },
    {
      "cell_type": "markdown",
      "source": [
        "**import dataset \"scaling_data.csv\"**"
      ],
      "metadata": {
        "id": "wUZXJwHdRrve"
      }
    },
    {
      "cell_type": "code",
      "source": [],
      "metadata": {
        "id": "NK5VM3T0R15d"
      },
      "execution_count": null,
      "outputs": []
    },
    {
      "cell_type": "markdown",
      "source": [
        "**Graphical Visualization of data using matplotlib (x and y data)**"
      ],
      "metadata": {
        "id": "B9M4K4piR9VB"
      }
    },
    {
      "cell_type": "code",
      "source": [
        "import matplotlib.pyplot as plt\n",
        "plt.scatter( data.X, data.Y)\n",
        "plt.axvline(x=0, c=\"red\", label=\"x=0\")\n",
        "plt.axhline(y=0, c=\"yellow\", label=\"y=0\")\n",
        "plt.show()"
      ],
      "metadata": {
        "id": "cS_zc_V2R7a5"
      },
      "execution_count": null,
      "outputs": []
    },
    {
      "cell_type": "markdown",
      "source": [
        "**Min_max scaler**"
      ],
      "metadata": {
        "id": "HjjjPXm3PqYG"
      }
    },
    {
      "cell_type": "markdown",
      "source": [
        "**Import Min-max Scaler (normalization_scaler)**"
      ],
      "metadata": {
        "id": "Z5DP3OLaRggR"
      }
    },
    {
      "cell_type": "code",
      "source": [
        "from sklearn.preprocessing import MinMaxScaler"
      ],
      "metadata": {
        "id": "aNg4sKAjRmmj"
      },
      "execution_count": null,
      "outputs": []
    },
    {
      "cell_type": "markdown",
      "source": [
        "**Define, fit and transform min-max scaler**"
      ],
      "metadata": {
        "id": "7WV-SVb3S0jo"
      }
    },
    {
      "cell_type": "code",
      "source": [
        "from sklearn.preprocessing import MinMaxScaler\n",
        "scaler = MinMaxScaler()                         # y = (x – min) / (max – min)\n",
        "min_max_scaled = scaler.fit_transform(data)"
      ],
      "metadata": {
        "id": "HeykyRJSRmp-"
      },
      "execution_count": null,
      "outputs": []
    },
    {
      "cell_type": "markdown",
      "source": [
        "**Create dataframe of scaled data**"
      ],
      "metadata": {
        "id": "WoCJEZcQS8af"
      }
    },
    {
      "cell_type": "code",
      "source": [
        "min_max_scaled = pd.DataFrame(min_max_scaled, columns= ['X','Y','Z'])\n",
        "min_max_scaled"
      ],
      "metadata": {
        "id": "Ep5Yl-eqRmxx"
      },
      "execution_count": null,
      "outputs": []
    },
    {
      "cell_type": "markdown",
      "source": [
        "**Scaled and unscaled data representation using matplotlib**"
      ],
      "metadata": {
        "id": "ghz4BnPWTISp"
      }
    },
    {
      "cell_type": "code",
      "source": [
        "import matplotlib.pyplot as plt\n",
        "plt.figure(figsize=(15, 5))\n",
        "plt.subplot(1,2,1)\n",
        "plt.scatter( data.X, data.Y)\n",
        "plt.axvline(x=0, c=\"red\", label=\"x=0\")\n",
        "plt.axhline(y=0, c=\"yellow\", label=\"y=0\")\n",
        "\n",
        "plt.subplot(1,2,2)\n",
        "plt.scatter(  min_max_scaled.X, min_max_scaled.Y)\n",
        "plt.show()"
      ],
      "metadata": {
        "id": "iAhkOdWGRmzr"
      },
      "execution_count": null,
      "outputs": []
    },
    {
      "cell_type": "markdown",
      "source": [
        "**Data scaling using Standard scaler**"
      ],
      "metadata": {
        "id": "U6smY6akTQ_D"
      }
    },
    {
      "cell_type": "markdown",
      "source": [
        "**Import Standard Scaler (normalization_scaler)**"
      ],
      "metadata": {
        "id": "LaM4ADJwTd4-"
      }
    },
    {
      "cell_type": "code",
      "source": [
        "from sklearn.preprocessing import StandardScaler"
      ],
      "metadata": {
        "id": "mzqMlL3TRm1g"
      },
      "execution_count": null,
      "outputs": []
    },
    {
      "cell_type": "markdown",
      "source": [
        "**Apply StandardSaler on data**"
      ],
      "metadata": {
        "id": "vscfBxxZTnhu"
      }
    },
    {
      "cell_type": "code",
      "source": [
        "from sklearn.preprocessing import StandardScaler\n",
        "scaler1 = StandardScaler()                   # X new = (X – X mean) / ( X std )\n",
        "std_scaled = scaler1.fit_transform(df)\n",
        "std_scaled"
      ],
      "metadata": {
        "id": "2VL1dU7_Rm3Y"
      },
      "execution_count": null,
      "outputs": []
    },
    {
      "cell_type": "markdown",
      "source": [
        "**Create dataframe of scaled data**"
      ],
      "metadata": {
        "id": "9mFj7DqjT0U5"
      }
    },
    {
      "cell_type": "code",
      "source": [
        "std_scaled = pd.DataFrame(std_scaled,columns= ['X','Y','Z'] )\n",
        "std_scaled"
      ],
      "metadata": {
        "id": "AcS6yOGDTwbl"
      },
      "execution_count": null,
      "outputs": []
    },
    {
      "cell_type": "markdown",
      "source": [
        "**Scaled and unscaled data representation using matplotlib**"
      ],
      "metadata": {
        "id": "rwjrjOQFT87v"
      }
    },
    {
      "cell_type": "code",
      "source": [
        "import matplotlib.pyplot as plt\n",
        "plt.figure(figsize=(15, 5))\n",
        "plt.subplot(1,2,1)\n",
        "plt.scatter( data.X, data.Y)\n",
        "plt.axvline(x=0, c=\"red\", label=\"x=0\")\n",
        "plt.axhline(y=0, c=\"yellow\", label=\"y=0\")\n",
        "\n",
        "plt.subplot(1,2,2)\n",
        "plt.scatter(  std_scaled.X, std_scaled.Y)\n",
        "plt.axvline(x=0, c=\"red\", label=\"x=0\")\n",
        "plt.axhline(y=0, c=\"yellow\", label=\"y=0\")\n",
        "plt.show()"
      ],
      "metadata": {
        "id": "1H-VDRzCRm5t"
      },
      "execution_count": null,
      "outputs": []
    },
    {
      "cell_type": "markdown",
      "source": [
        "##**Complete each and every steps of Task-1 and Task-2**"
      ],
      "metadata": {
        "id": "0wIUm3EBVhGo"
      }
    },
    {
      "cell_type": "markdown",
      "source": [
        "\n",
        "#**Task-1 (missing values)**\n",
        "1.   **Import necessory libraries for kNN imputation**\n",
        "2.   **Create dataframe X using following data with column names as 'Class A','Class B', 'Class C', 'Class D'**\n",
        "\n",
        "---\n",
        "                X = [[1, 3, np.nan, 4], [6, np.nan, 8, np.nan], [5, 4, 2, 3], [9, np.nan, 6, 8]]\n",
        "\n",
        "---\n",
        "\n",
        "\n",
        "3. **find number of missing values in each columns**\n",
        "4. **find total number of missing values in dataframe**\n",
        "5. **Find percent missing values in dataframe**\n",
        "6. **Drop the rows having missing values**\n",
        "7. **Keep the rows having with atleast 3 non-null values**\n",
        "8. **Keep the columns having with atleast 3 non-null values**\n",
        "9. **Drop the columns having missing values**\n",
        "10. **Fill the missing values with mean values**\n",
        "11. **Use KNN imputer to impute the missing values**\n",
        "12. **Save the imputed data in dataframe as variable Y**  \n",
        "\n",
        "\n",
        "\n"
      ],
      "metadata": {
        "id": "KeUn_Uc8MHp4"
      }
    },
    {
      "cell_type": "markdown",
      "source": [
        "#**Task-2 (KNN imputer and Categorical Encoading)**\n",
        "1. import dataset (Loan_status.csv)\n",
        "2. calculate sum of missing values in each columns\n",
        "3. In Dataframe, Keep only missing values categorical data type columns\n",
        "4. fill the null values with categorical imputer\n",
        "5. create new dataframe with all previously categorical non-null columns and newly fill value columns\n",
        "6. use the lable encoder to encode the categorical data\n",
        "6. use one-hot encoder to encode the \"Property_Area\" column\n",
        "7. Use mim-max scaler and standard scaler for 'ApplicantIncome' column."
      ],
      "metadata": {
        "id": "AXlfcDwePSCS"
      }
    }
  ]
}